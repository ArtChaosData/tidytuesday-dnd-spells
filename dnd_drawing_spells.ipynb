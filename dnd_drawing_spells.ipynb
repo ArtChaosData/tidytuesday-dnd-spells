{
 "cells": [
  {
   "cell_type": "code",
   "execution_count": 6,
   "id": "d4524c47",
   "metadata": {},
   "outputs": [],
   "source": [
    "#!pip install svgwrite\n",
    "import pandas as pd\n",
    "import svgwrite"
   ]
  },
  {
   "cell_type": "code",
   "execution_count": 7,
   "id": "3ad06c5f",
   "metadata": {},
   "outputs": [],
   "source": [
    "# Load the data\n",
    "data = pd.read_csv('spells.csv')\n",
    "\n",
    "# Convert the data to long format\n",
    "df_melted = pd.melt(data, id_vars=['name', 'level', 'school'], \n",
    "                    value_vars=['bard', 'cleric', 'druid', 'paladin', 'ranger', 'sorcerer', 'warlock', 'wizard'], \n",
    "                    var_name='class', value_name='has_spell')\n",
    "\n",
    "# Group by grade, level, school and count the number TRUE\n",
    "spell_classes = df_melted[df_melted['has_spell'] == True].groupby(['class', 'level', 'school']).size().\\\n",
    "    reset_index(name='spell_count')\n",
    "\n",
    "spell_classes['school'] = spell_classes['school'].str.strip().str.capitalize() # Normalize titles of schools"
   ]
  },
  {
   "cell_type": "code",
   "execution_count": 8,
   "id": "3cfdfe25",
   "metadata": {},
   "outputs": [],
   "source": [
    "# Define parameters for drawing\n",
    "sizew, sizeh = 25, 25  \n",
    "marginw, marginh = (sizew /4), (sizeh / 4) # Indents between rectangles\n",
    "\n",
    "# Indents between schools of magic - they will be grouped in the picture\n",
    "sch_marg = marginw*4 \n",
    "pic_h = str((sizeh + marginh) * 10)+\"px\" # Determine the height of the image based on the size of the tiles\n",
    "\n",
    "# Maximum number of spells per school\n",
    "school_max_values = spell_classes.groupby('school')['spell_count'].max().to_dict()  \n"
   ]
  },
  {
   "cell_type": "code",
   "execution_count": 9,
   "id": "c84c84a3",
   "metadata": {},
   "outputs": [],
   "source": [
    "# There is no official palette, so I picked up the colors by refining the found on the network\n",
    "school_colors = {\n",
    "    'Abjuration': '#FFC53A', \n",
    "    'Conjuration': '#084B83', \n",
    "    'Divination': '#93A8AC',\n",
    "    'Enchantment': '#21FA90', \n",
    "    'Evocation': '#DE3C4B', \n",
    "    'Illusion': '#AA7DCE',\n",
    "    'Necromancy': '#230903', \n",
    "    'Transmutation': '#AD9F71'\n",
    "} "
   ]
  },
  {
   "cell_type": "code",
   "execution_count": 13,
   "id": "7389ce69",
   "metadata": {},
   "outputs": [
    {
     "name": "stdout",
     "output_type": "stream",
     "text": [
      "SVG for bard saved as images/bard_data.svg\n",
      "SVG for cleric saved as images/cleric_data.svg\n",
      "SVG for druid saved as images/druid_data.svg\n",
      "SVG for paladin saved as images/paladin_data.svg\n",
      "SVG for ranger saved as images/ranger_data.svg\n",
      "SVG for sorcerer saved as images/sorcerer_data.svg\n",
      "SVG for warlock saved as images/warlock_data.svg\n",
      "SVG for wizard saved as images/wizard_data.svg\n"
     ]
    }
   ],
   "source": [
    "# Iterate by class\n",
    "for class_name, class_data in spell_classes.groupby('class'):\n",
    "    file_ = f\"images/{class_name}_data.svg\"  # The name of the file for each class\n",
    "\n",
    "    # Create an SVG object\n",
    "    dwg = svgwrite.Drawing(file_, profile='tiny', size=('2029px', pic_h))\n",
    "\n",
    "    # Initial coordinates for drawing\n",
    "    startx, starty = 0, 0\n",
    "    x_pos, y_pos = startx, starty\n",
    "\n",
    "    # Iterate by school\n",
    "    for column in sorted(class_data['school'].unique()):\n",
    "        color = school_colors.get(column, 'gray') \n",
    "        \n",
    "        # Maximum number of spells for each school\n",
    "        max_spells_for_spacing = school_max_values.get(column, 0)  \n",
    "\n",
    "        # Iterate through the levels\n",
    "        for level in range(0, class_data['level'].max() + 1):\n",
    "            spells_in_level = class_data[(class_data['level'] == level) & (class_data['school'] == column)]\n",
    "            \n",
    "            # Sum the number of spells for level and school\n",
    "            value = spells_in_level['spell_count'].sum()  \n",
    "\n",
    "            for n in range(value):\n",
    "                dwg.add(dwg.rect(insert=(x_pos, y_pos), size=(sizew, sizeh), fill=color))\n",
    "                x_pos += sizew + marginw  # Shift to the right\n",
    "\n",
    "            y_pos += sizeh + marginh  # Slide down for the next level\n",
    "            x_pos = startx  # Return to the initial X-axis position\n",
    "\n",
    "        y_pos = starty  # Return to the initial Y-axis position\n",
    "        startx += max_spells_for_spacing * (sizew + marginw) + marginw + sch_marg  # Shift to the right for the new school\n",
    "        x_pos = startx  # Update the initial x-coordinate\n",
    "\n",
    "    # Save the file\n",
    "    dwg.save()\n",
    "    print(f\"SVG for {class_name} saved as {file_}\")"
   ]
  },
  {
   "cell_type": "code",
   "execution_count": null,
   "id": "e20db8ec",
   "metadata": {},
   "outputs": [],
   "source": []
  }
 ],
 "metadata": {
  "kernelspec": {
   "display_name": "Python 3 (ipykernel)",
   "language": "python",
   "name": "python3"
  },
  "language_info": {
   "codemirror_mode": {
    "name": "ipython",
    "version": 3
   },
   "file_extension": ".py",
   "mimetype": "text/x-python",
   "name": "python",
   "nbconvert_exporter": "python",
   "pygments_lexer": "ipython3",
   "version": "3.11.4"
  }
 },
 "nbformat": 4,
 "nbformat_minor": 5
}
